{
  "nbformat": 4,
  "nbformat_minor": 0,
  "metadata": {
    "colab": {
      "provenance": [],
      "gpuType": "T4",
      "authorship_tag": "ABX9TyOr6klbIEK5MtsQnM/7cpuu",
      "include_colab_link": true
    },
    "kernelspec": {
      "name": "python3",
      "display_name": "Python 3"
    },
    "language_info": {
      "name": "python"
    },
    "accelerator": "GPU"
  },
  "cells": [
    {
      "cell_type": "markdown",
      "metadata": {
        "id": "view-in-github",
        "colab_type": "text"
      },
      "source": [
        "<a href=\"https://colab.research.google.com/github/Belashov641618/DNN/blob/main/collab/Incoherent.ipynb\" target=\"_parent\"><img src=\"https://colab.research.google.com/assets/colab-badge.svg\" alt=\"Open In Colab\"/></a>"
      ]
    },
    {
      "cell_type": "code",
      "source": [
        "import locale\n",
        "locale.getpreferredencoding = lambda: \"UTF-8\""
      ],
      "metadata": {
        "id": "rXb2b1uJE_Su"
      },
      "execution_count": 1,
      "outputs": []
    },
    {
      "cell_type": "code",
      "source": [
        "!git clone https://github.com/Belashov641618/DNN.git"
      ],
      "metadata": {
        "id": "5DiXfYY22OGN",
        "outputId": "c172cb99-bdab-4630-fcb5-b2a064143ed1",
        "colab": {
          "base_uri": "https://localhost:8080/"
        }
      },
      "execution_count": 2,
      "outputs": [
        {
          "output_type": "stream",
          "name": "stdout",
          "text": [
            "Cloning into 'DNN'...\n",
            "remote: Enumerating objects: 625, done.\u001b[K\n",
            "remote: Counting objects: 100% (225/225), done.\u001b[K\n",
            "remote: Compressing objects: 100% (152/152), done.\u001b[K\n",
            "remote: Total 625 (delta 107), reused 156 (delta 68), pack-reused 400\u001b[K\n",
            "Receiving objects: 100% (625/625), 24.21 MiB | 26.41 MiB/s, done.\n",
            "Resolving deltas: 100% (315/315), done.\n"
          ]
        }
      ]
    },
    {
      "cell_type": "code",
      "source": [
        "!git pull"
      ],
      "metadata": {
        "colab": {
          "base_uri": "https://localhost:8080/"
        },
        "id": "Wj3c504ka6l0",
        "outputId": "1473bf79-ec44-42d8-c89d-79469c8e19ce"
      },
      "execution_count": 8,
      "outputs": [
        {
          "output_type": "stream",
          "name": "stdout",
          "text": [
            "Already up to date.\n"
          ]
        }
      ]
    },
    {
      "cell_type": "code",
      "source": [
        "!dir\n",
        "from google.colab import files\n",
        "files.view('/content/DNN')\n",
        "!dir"
      ],
      "metadata": {
        "id": "xUtwLhxwGbyZ",
        "outputId": "ee8b10bf-63c2-49b9-999b-e0b8c977dc00",
        "colab": {
          "base_uri": "https://localhost:8080/",
          "height": 52
        }
      },
      "execution_count": 3,
      "outputs": [
        {
          "output_type": "stream",
          "name": "stdout",
          "text": [
            "DNN  sample_data\n"
          ]
        },
        {
          "output_type": "display_data",
          "data": {
            "text/plain": [
              "<IPython.core.display.Javascript object>"
            ],
            "application/javascript": [
              "\n",
              "      ((filepath) => {{\n",
              "        if (!google.colab.kernel.accessAllowed) {{\n",
              "          return;\n",
              "        }}\n",
              "        google.colab.files.view(filepath);\n",
              "      }})(\"/content/DNN\")"
            ]
          },
          "metadata": {}
        },
        {
          "output_type": "stream",
          "name": "stdout",
          "text": [
            "DNN  sample_data\n"
          ]
        }
      ]
    },
    {
      "cell_type": "code",
      "source": [
        "%cd DNN\n",
        "import sys, os\n",
        "sys.path.append(os.path.abspath('src'))"
      ],
      "metadata": {
        "id": "2cyx6dZGIwPJ",
        "outputId": "e74f6088-619f-4651-a8ab-03228b493f86",
        "colab": {
          "base_uri": "https://localhost:8080/"
        }
      },
      "execution_count": 19,
      "outputs": [
        {
          "output_type": "stream",
          "name": "stdout",
          "text": [
            "[Errno 2] No such file or directory: 'DNN'\n",
            "/content/DNN\n"
          ]
        }
      ]
    },
    {
      "cell_type": "code",
      "source": [
        "!pip install belashovplot\n",
        "from belashovplot.belashovplot import DefaultFont, DefaultBigHeader, DefaultHeader, DefaultDefault, DefaultCaption, DefaultSmallCaption\n",
        "DefaultFont['font'] = 'DejaVu Sans'\n",
        "for Font in [DefaultBigHeader, DefaultHeader, DefaultDefault, DefaultCaption, DefaultSmallCaption]:\n",
        "  Font.Font = 'DejaVu Sans'"
      ],
      "metadata": {
        "id": "QQzuS1vkFQnw",
        "outputId": "83056ee9-8fbd-460f-f50d-c6ef7e138a63",
        "colab": {
          "base_uri": "https://localhost:8080/"
        }
      },
      "execution_count": 5,
      "outputs": [
        {
          "output_type": "stream",
          "name": "stdout",
          "text": [
            "Collecting belashovplot\n",
            "  Downloading belashovplot-1.0.tar.gz (12 kB)\n",
            "  Preparing metadata (setup.py) ... \u001b[?25l\u001b[?25hdone\n",
            "Building wheels for collected packages: belashovplot\n",
            "  Building wheel for belashovplot (setup.py) ... \u001b[?25l\u001b[?25hdone\n",
            "  Created wheel for belashovplot: filename=belashovplot-1.0-py3-none-any.whl size=12758 sha256=53f74ab3442caa383c8603bd810c7f5aee1d5502b01d5792792c6dd5692d2a6a\n",
            "  Stored in directory: /root/.cache/pip/wheels/55/7b/e2/e5bf08c4c48d0989afbcb220497fa4bb6805a32f6c7826eece\n",
            "Successfully built belashovplot\n",
            "Installing collected packages: belashovplot\n",
            "Successfully installed belashovplot-1.0\n"
          ]
        }
      ]
    },
    {
      "cell_type": "code",
      "source": [
        "import torch\n",
        "import numpy"
      ],
      "metadata": {
        "id": "K4eLlriuFsbr"
      },
      "execution_count": 6,
      "outputs": []
    },
    {
      "cell_type": "code",
      "source": [
        "from src.modules import layers\n",
        "from src.utilities import decimal"
      ],
      "metadata": {
        "id": "QHRx50RoFwKM"
      },
      "execution_count": 20,
      "outputs": []
    },
    {
      "cell_type": "code",
      "source": [
        "torch.cuda.empty_cache()\n",
        "\n",
        "pixels = 1023\n",
        "wavelength = 600*decimal.nm\n",
        "distance = 30.0*decimal.cm\n",
        "length = 10*decimal.mm\n",
        "samples = 500\n",
        "padding = int(pixels*0.45)\n",
        "focus = pixels*length*length / ((pixels*pixels - 1) * wavelength)\n",
        "# 1/f = 1/a + 1/b -> 1/b = 1/f - 1/a -> b = af / (a - f)\n",
        "distance = 4/3 * focus\n",
        "distance_b = distance * focus / abs(distance - focus)\n",
        "\n",
        "# distance = focus\n",
        "# distance_b = focus\n",
        "\n",
        "print(distance, distance_b, focus)\n",
        "\n",
        "device = torch.device('cuda' if torch.cuda.is_available() else 'cpu')\n",
        "propagator = layers.FourierPropagationLayer(500.0*decimal.nm, 1.0, length, pixels, 1, distance, 2*length).to(device)\n",
        "propagator_b = layers.FourierPropagationLayer(500.0*decimal.nm, 1.0, length, pixels, 1, distance_b, 2*length).to(device)\n",
        "lens = layers.LensLayer(focus, wavelength, length, pixels, 1).to(device)\n",
        "def model(data:torch.Tensor):\n",
        "    return propagator_b(lens(propagator(data)))\n",
        "\n",
        "from src.utilities.UniversalTestsAndOther import GenerateSingleUnscaledSampleMNIST\n",
        "from torchvision.transforms.functional import resize, pad\n",
        "from torchvision.transforms import InterpolationMode\n",
        "\n",
        "with torch.no_grad():\n",
        "  image = pad(resize(GenerateSingleUnscaledSampleMNIST(True).abs(), size=[pixels-2*padding, pixels-2*padding], interpolation=InterpolationMode.BILINEAR, antialias=True), [padding]*4, 0.)\n",
        "  # image = torch.zeros_like(image)\n",
        "  # s = 5\n",
        "  # image[:,:, int(pixels/2)-s:int(pixels/2)+s, int(pixels/2)-s:int(pixels/2)+s] = 1.0\n",
        "  coherent = image.clone().to(torch.complex64).to(device)\n",
        "  incoherent = coherent.clone().expand(samples, 1, pixels, pixels) * torch.exp(2j*torch.pi*torch.rand(samples, 1, pixels, pixels, device=device, dtype=torch.float32))\n",
        "\n",
        "  coherent_result = model(coherent)\n",
        "\n",
        "  try_again = True\n",
        "  split = 256\n",
        "  while try_again:\n",
        "    try:\n",
        "      incoherent_results = torch.zeros_like(coherent_result, dtype=torch.float32)\n",
        "      for part in torch.chunk(incoherent, split, dim=0):\n",
        "          incoherent_results += torch.mean(torch.abs(model(part)), dim=0)\n",
        "      incoherent_results /= split\n",
        "      try_again = False\n",
        "    except RuntimeError as e:\n",
        "      split *= 2\n",
        "      print(f'Split: {split}')\n",
        "\n",
        "  M = 300\n",
        "  Na = int(M*distance/(distance+distance_b))\n",
        "  Nb = int(M*distance_b/(distance+distance_b))\n",
        "  cut = torch.zeros(Na + Nb, pixels)\n",
        "  distances = numpy.linspace(0, distance, Na+1)[:-1]\n",
        "  for i, distance_ in enumerate(distances):\n",
        "    coherent_ = propagator(coherent)\n",
        "    propagator.distance = distance_\n",
        "    cut[i] = torch.abs(coherent_.squeeze()[int(pixels/2)].cpu())\n",
        "  coherent_ = lens(coherent_)\n",
        "  distances = numpy.linspace(0, distance_b, Nb)\n",
        "  for i, distance_ in enumerate(distances, start=Na):\n",
        "    propagator_b.distance = distance_\n",
        "    cut[i] = torch.abs(propagator_b(coherent_).squeeze()[int(pixels/2)].cpu())\n",
        "\n",
        "  coherent = coherent.squeeze().cpu()\n",
        "  coherent_result = coherent_result.squeeze().cpu()\n",
        "  incoherent_results = incoherent_results.squeeze().cpu()\n",
        "  cut = cut.squeeze().cpu()"
      ],
      "metadata": {
        "colab": {
          "base_uri": "https://localhost:8080/"
        },
        "id": "bOhD5dMvdT8n",
        "outputId": "5e3dc3d4-a3bd-485d-9d60-717b31f4771f"
      },
      "execution_count": null,
      "outputs": [
        {
          "output_type": "stream",
          "name": "stdout",
          "text": [
            "0.217226231245923 0.651678693737769 0.16291967343444225\n"
          ]
        }
      ]
    },
    {
      "cell_type": "code",
      "source": [
        "from belashovplot import TiledPlot\n",
        "\n",
        "plot = TiledPlot(16,9)\n",
        "plot.FontLibrary.MultiplyFontSize(0.7)\n",
        "\n",
        "plot.description.row.left('Исходное изображение', 0)\n",
        "plot.description.row.left('Оптически преобразованое', 1)\n",
        "plot.description.column.top('Амплитуда', 0)\n",
        "plot.description.column.top('Фаза', 1)\n",
        "plot.description.column.bottom('Когерент (амплитуда)', 0)\n",
        "plot.description.column.bottom('Некогерент', 1)\n",
        "\n",
        "kwargs = {'aspect':'auto', 'cmap':'viridis'}\n",
        "\n",
        "axes = plot.axes.add(0,0)\n",
        "axes.imshow(torch.abs(coherent), **kwargs)\n",
        "\n",
        "axes = plot.axes.add(1,0)\n",
        "axes.imshow(torch.abs(torch.fft.fftshift(torch.fft.fft2(coherent))), **kwargs)\n",
        "\n",
        "axes = plot.axes.add(0,1)\n",
        "axes.imshow(torch.abs(coherent_result), **kwargs)\n",
        "\n",
        "axes = plot.axes.add(1,1)\n",
        "axes.imshow(incoherent_results, **kwargs)\n",
        "\n",
        "axes = plot.axes.add((2,0), (2, 1))\n",
        "axes.imshow(torch.log10(cut + 0.005), **kwargs, extent=[0, length, distance_b, -distance])\n",
        "axes.axvline(length/2, (distance_b-focus)/(distance + distance_b), (distance_b+focus)/(distance + distance_b), color='maroon', linestyle='--', linewidth=1.0)\n",
        "axes.axhline(0, color='maroon', linestyle='--', linewidth=1.0)\n",
        "\n",
        "plot.show()"
      ],
      "metadata": {
        "id": "AX5fAFAgde9P"
      },
      "execution_count": null,
      "outputs": []
    },
    {
      "cell_type": "code",
      "source": [
        "torch.cuda.empty_cache()"
      ],
      "metadata": {
        "id": "Ub0YMdXOfOJa"
      },
      "execution_count": 36,
      "outputs": []
    }
  ]
}